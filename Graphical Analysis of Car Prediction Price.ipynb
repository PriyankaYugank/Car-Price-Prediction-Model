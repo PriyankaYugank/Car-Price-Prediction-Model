{
 "cells": [
  {
   "cell_type": "code",
   "execution_count": 1,
   "id": "9c89171b",
   "metadata": {},
   "outputs": [],
   "source": [
    "# Importing necessary libraries\n",
    "import matplotlib.pyplot as plt\n",
    "import seaborn as sns\n",
    "import pandas as pd\n"
   ]
  },
  {
   "cell_type": "code",
   "execution_count": null,
   "id": "c4eed773",
   "metadata": {},
   "outputs": [],
   "source": [
    "df = pd.read_csv('your_data.csv')\n",
    "\n",
    "# Example: Scatter plot\n",
    "def scatter_plot(x, y, xlabel, ylabel, title):\n",
    "    plt.figure(figsize=(10, 6))\n",
    "    plt.scatter(x, y, alpha=0.5)  # Creating scatter plot\n",
    "    plt.title(title)  # Adding title\n",
    "    plt.xlabel(xlabel)  # Adding x-axis label\n",
    "    plt.ylabel(ylabel)  # Adding y-axis label\n",
    "    plt.grid(True)  # Adding grid\n",
    "    plt.show()  # Displaying plot\n",
    "\n",
    "# Example: Histogram\n",
    "def histogram(data, xlabel, ylabel, title):\n",
    "    plt.figure(figsize=(10, 6))\n",
    "    sns.histplot(data, kde=True)  # Creating histogram with kernel density estimate\n",
    "    plt.title(title)  # Adding title\n",
    "    plt.xlabel(xlabel)  # Adding x-axis label\n",
    "    plt.ylabel(ylabel)  # Adding y-axis label\n",
    "    plt.grid(True)  # Adding grid\n",
    "    plt.show()  # Displaying plot\n",
    "\n",
    "# Example: Box plot\n",
    "def box_plot(data, xlabel, ylabel, title):\n",
    "    plt.figure(figsize=(10, 6))\n",
    "    sns.boxplot(data=data)  # Creating box plot\n",
    "    plt.title(title)  # Adding title\n",
    "    plt.xlabel(xlabel)  # Adding x-axis label\n",
    "    plt.ylabel(ylabel)  # Adding y-axis label\n",
    "    plt.grid(True)  # Adding grid\n",
    "    plt.show()  # Displaying plot\n",
    "\n",
    "# Example usage\n",
    "# Replace 'column_x' and 'column_y' with your actual column names from the DataFrame\n",
    "scatter_plot(df['column_x'], df['column_y'], 'X-axis Label', 'Y-axis Label', 'Scatter Plot')\n",
    "histogram(df['column_y'], 'Values', 'Frequency', 'Histogram')\n",
    "box_plot(df, 'Data', 'Values', 'Box Plot')\n",
    "\n",
    "# Add more functions for other types of plots as needed\n"
   ]
  }
 ],
 "metadata": {
  "kernelspec": {
   "display_name": "Python 3 (ipykernel)",
   "language": "python",
   "name": "python3"
  },
  "language_info": {
   "codemirror_mode": {
    "name": "ipython",
    "version": 3
   },
   "file_extension": ".py",
   "mimetype": "text/x-python",
   "name": "python",
   "nbconvert_exporter": "python",
   "pygments_lexer": "ipython3",
   "version": "3.11.4"
  }
 },
 "nbformat": 4,
 "nbformat_minor": 5
}
